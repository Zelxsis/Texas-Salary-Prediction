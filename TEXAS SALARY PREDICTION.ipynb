{
 "cells": [
  {
   "cell_type": "code",
   "execution_count": 1,
   "id": "ca8d87f8",
   "metadata": {},
   "outputs": [],
   "source": [
    "#Importing necessary Libraries\n",
    "%matplotlib inline\n",
    "\n",
    "import pandas as pd\n",
    "import numpy as np\n",
    "import seaborn as sns\n",
    "from sklearn.metrics import accuracy_score,confusion_matrix\n",
    "import matplotlib.pyplot as plt\n",
    "import warnings \n",
    "warnings.filterwarnings('ignore')"
   ]
  },
  {
   "cell_type": "code",
   "execution_count": 2,
   "id": "71fb09ef",
   "metadata": {},
   "outputs": [],
   "source": [
    "salary = pd.read_csv('C:\\\\Users\\\\ccuti\\\\Data Science\\\\Project\\\\Texas Salary Prediction\\\\data\\\\salary.csv')"
   ]
  },
  {
   "cell_type": "code",
   "execution_count": 3,
   "id": "b16da5a5",
   "metadata": {},
   "outputs": [
    {
     "data": {
      "text/html": [
       "<div>\n",
       "<style scoped>\n",
       "    .dataframe tbody tr th:only-of-type {\n",
       "        vertical-align: middle;\n",
       "    }\n",
       "\n",
       "    .dataframe tbody tr th {\n",
       "        vertical-align: top;\n",
       "    }\n",
       "\n",
       "    .dataframe thead th {\n",
       "        text-align: right;\n",
       "    }\n",
       "</style>\n",
       "<table border=\"1\" class=\"dataframe\">\n",
       "  <thead>\n",
       "    <tr style=\"text-align: right;\">\n",
       "      <th></th>\n",
       "      <th>AGENCY</th>\n",
       "      <th>AGENCY NAME</th>\n",
       "      <th>LAST NAME</th>\n",
       "      <th>FIRST NAME</th>\n",
       "      <th>MI</th>\n",
       "      <th>CLASS CODE</th>\n",
       "      <th>CLASS TITLE</th>\n",
       "      <th>ETHNICITY</th>\n",
       "      <th>GENDER</th>\n",
       "      <th>STATUS</th>\n",
       "      <th>...</th>\n",
       "      <th>HRLY RATE</th>\n",
       "      <th>HRS PER WK</th>\n",
       "      <th>MONTHLY</th>\n",
       "      <th>ANNUAL</th>\n",
       "      <th>STATE NUMBER</th>\n",
       "      <th>duplicated</th>\n",
       "      <th>multiple_full_time_jobs</th>\n",
       "      <th>combined_multiple_jobs</th>\n",
       "      <th>summed_annual_salary</th>\n",
       "      <th>hide_from_search</th>\n",
       "    </tr>\n",
       "  </thead>\n",
       "  <tbody>\n",
       "    <tr>\n",
       "      <th>0</th>\n",
       "      <td>241</td>\n",
       "      <td>COMPTROLLER OF PUBLIC ACCOUNTS, JUDICIARY SECT...</td>\n",
       "      <td>RUCKER</td>\n",
       "      <td>MORTON</td>\n",
       "      <td>V</td>\n",
       "      <td>JD25</td>\n",
       "      <td>JUDGE, RETIRED                                ...</td>\n",
       "      <td>WHITE</td>\n",
       "      <td>MALE</td>\n",
       "      <td>URP - UNCLASSIFIED REGULAR PART-TIME</td>\n",
       "      <td>...</td>\n",
       "      <td>75.96150</td>\n",
       "      <td>29.0</td>\n",
       "      <td>9545.82</td>\n",
       "      <td>114549.84</td>\n",
       "      <td>127717</td>\n",
       "      <td>True</td>\n",
       "      <td>NaN</td>\n",
       "      <td>NaN</td>\n",
       "      <td>131407.08</td>\n",
       "      <td>NaN</td>\n",
       "    </tr>\n",
       "    <tr>\n",
       "      <th>1</th>\n",
       "      <td>212</td>\n",
       "      <td>OFFICE OF COURT ADMINISTRATION                ...</td>\n",
       "      <td>RUCKER</td>\n",
       "      <td>MORTON</td>\n",
       "      <td>V</td>\n",
       "      <td>3524</td>\n",
       "      <td>GENERAL COUNSEL IV                            ...</td>\n",
       "      <td>WHITE</td>\n",
       "      <td>MALE</td>\n",
       "      <td>CTP - CLASSIFIED TEMPORARY PART-TIME</td>\n",
       "      <td>...</td>\n",
       "      <td>81.04454</td>\n",
       "      <td>4.0</td>\n",
       "      <td>1404.77</td>\n",
       "      <td>16857.24</td>\n",
       "      <td>127717</td>\n",
       "      <td>True</td>\n",
       "      <td>NaN</td>\n",
       "      <td>NaN</td>\n",
       "      <td>NaN</td>\n",
       "      <td>True</td>\n",
       "    </tr>\n",
       "    <tr>\n",
       "      <th>2</th>\n",
       "      <td>241</td>\n",
       "      <td>COMPTROLLER OF PUBLIC ACCOUNTS, JUDICIARY SECT...</td>\n",
       "      <td>SPECIA JR</td>\n",
       "      <td>JOHN</td>\n",
       "      <td>J</td>\n",
       "      <td>JD25</td>\n",
       "      <td>JUDGE, RETIRED                                ...</td>\n",
       "      <td>WHITE</td>\n",
       "      <td>MALE</td>\n",
       "      <td>URP - UNCLASSIFIED REGULAR PART-TIME</td>\n",
       "      <td>...</td>\n",
       "      <td>75.96150</td>\n",
       "      <td>29.0</td>\n",
       "      <td>9545.82</td>\n",
       "      <td>114549.84</td>\n",
       "      <td>59115</td>\n",
       "      <td>True</td>\n",
       "      <td>NaN</td>\n",
       "      <td>NaN</td>\n",
       "      <td>131407.08</td>\n",
       "      <td>NaN</td>\n",
       "    </tr>\n",
       "    <tr>\n",
       "      <th>3</th>\n",
       "      <td>212</td>\n",
       "      <td>OFFICE OF COURT ADMINISTRATION                ...</td>\n",
       "      <td>SPECIA JR</td>\n",
       "      <td>JOHN</td>\n",
       "      <td>J</td>\n",
       "      <td>3524</td>\n",
       "      <td>GENERAL COUNSEL IV                            ...</td>\n",
       "      <td>WHITE</td>\n",
       "      <td>MALE</td>\n",
       "      <td>CTP - CLASSIFIED TEMPORARY PART-TIME</td>\n",
       "      <td>...</td>\n",
       "      <td>81.04453</td>\n",
       "      <td>4.0</td>\n",
       "      <td>1404.77</td>\n",
       "      <td>16857.24</td>\n",
       "      <td>59115</td>\n",
       "      <td>True</td>\n",
       "      <td>NaN</td>\n",
       "      <td>NaN</td>\n",
       "      <td>NaN</td>\n",
       "      <td>True</td>\n",
       "    </tr>\n",
       "    <tr>\n",
       "      <th>4</th>\n",
       "      <td>696</td>\n",
       "      <td>TEXAS DEPARTMENT OF CRIMINAL JUSTICE          ...</td>\n",
       "      <td>ONTIVEROS</td>\n",
       "      <td>ESTHER</td>\n",
       "      <td></td>\n",
       "      <td>4504</td>\n",
       "      <td>CORREC  OFFICER IV                            ...</td>\n",
       "      <td>HISPANIC</td>\n",
       "      <td>FEMALE</td>\n",
       "      <td>CRF - CLASSIFIED REGULAR FULL-TIME</td>\n",
       "      <td>...</td>\n",
       "      <td>0.00000</td>\n",
       "      <td>40.0</td>\n",
       "      <td>3284.27</td>\n",
       "      <td>39411.24</td>\n",
       "      <td>165030</td>\n",
       "      <td>True</td>\n",
       "      <td>1.0</td>\n",
       "      <td>NaN</td>\n",
       "      <td>NaN</td>\n",
       "      <td>NaN</td>\n",
       "    </tr>\n",
       "  </tbody>\n",
       "</table>\n",
       "<p>5 rows × 21 columns</p>\n",
       "</div>"
      ],
      "text/plain": [
       "   AGENCY                                        AGENCY NAME  \\\n",
       "0     241  COMPTROLLER OF PUBLIC ACCOUNTS, JUDICIARY SECT...   \n",
       "1     212  OFFICE OF COURT ADMINISTRATION                ...   \n",
       "2     241  COMPTROLLER OF PUBLIC ACCOUNTS, JUDICIARY SECT...   \n",
       "3     212  OFFICE OF COURT ADMINISTRATION                ...   \n",
       "4     696  TEXAS DEPARTMENT OF CRIMINAL JUSTICE          ...   \n",
       "\n",
       "                        LAST NAME                      FIRST NAME MI  \\\n",
       "0  RUCKER                          MORTON                          V   \n",
       "1  RUCKER                          MORTON                          V   \n",
       "2  SPECIA JR                       JOHN                            J   \n",
       "3  SPECIA JR                       JOHN                            J   \n",
       "4  ONTIVEROS                       ESTHER                              \n",
       "\n",
       "  CLASS CODE                                        CLASS TITLE  \\\n",
       "0   JD25      JUDGE, RETIRED                                ...   \n",
       "1   3524      GENERAL COUNSEL IV                            ...   \n",
       "2   JD25      JUDGE, RETIRED                                ...   \n",
       "3   3524      GENERAL COUNSEL IV                            ...   \n",
       "4   4504      CORREC  OFFICER IV                            ...   \n",
       "\n",
       "         ETHNICITY           GENDER                                    STATUS  \\\n",
       "0  WHITE            MALE             URP - UNCLASSIFIED REGULAR PART-TIME       \n",
       "1  WHITE            MALE             CTP - CLASSIFIED TEMPORARY PART-TIME       \n",
       "2  WHITE            MALE             URP - UNCLASSIFIED REGULAR PART-TIME       \n",
       "3  WHITE            MALE             CTP - CLASSIFIED TEMPORARY PART-TIME       \n",
       "4  HISPANIC         FEMALE           CRF - CLASSIFIED REGULAR FULL-TIME         \n",
       "\n",
       "   ... HRLY RATE  HRS PER WK  MONTHLY     ANNUAL  STATE NUMBER  duplicated  \\\n",
       "0  ...  75.96150        29.0  9545.82  114549.84        127717        True   \n",
       "1  ...  81.04454         4.0  1404.77   16857.24        127717        True   \n",
       "2  ...  75.96150        29.0  9545.82  114549.84         59115        True   \n",
       "3  ...  81.04453         4.0  1404.77   16857.24         59115        True   \n",
       "4  ...   0.00000        40.0  3284.27   39411.24        165030        True   \n",
       "\n",
       "  multiple_full_time_jobs  combined_multiple_jobs summed_annual_salary  \\\n",
       "0                     NaN                     NaN            131407.08   \n",
       "1                     NaN                     NaN                  NaN   \n",
       "2                     NaN                     NaN            131407.08   \n",
       "3                     NaN                     NaN                  NaN   \n",
       "4                     1.0                     NaN                  NaN   \n",
       "\n",
       "   hide_from_search  \n",
       "0               NaN  \n",
       "1              True  \n",
       "2               NaN  \n",
       "3              True  \n",
       "4               NaN  \n",
       "\n",
       "[5 rows x 21 columns]"
      ]
     },
     "execution_count": 3,
     "metadata": {},
     "output_type": "execute_result"
    }
   ],
   "source": [
    "salary.head()"
   ]
  },
  {
   "cell_type": "code",
   "execution_count": 4,
   "id": "971ab21f",
   "metadata": {},
   "outputs": [
    {
     "data": {
      "text/html": [
       "<div>\n",
       "<style scoped>\n",
       "    .dataframe tbody tr th:only-of-type {\n",
       "        vertical-align: middle;\n",
       "    }\n",
       "\n",
       "    .dataframe tbody tr th {\n",
       "        vertical-align: top;\n",
       "    }\n",
       "\n",
       "    .dataframe thead th {\n",
       "        text-align: right;\n",
       "    }\n",
       "</style>\n",
       "<table border=\"1\" class=\"dataframe\">\n",
       "  <thead>\n",
       "    <tr style=\"text-align: right;\">\n",
       "      <th></th>\n",
       "      <th>AGENCY</th>\n",
       "      <th>HRLY RATE</th>\n",
       "      <th>HRS PER WK</th>\n",
       "      <th>MONTHLY</th>\n",
       "      <th>ANNUAL</th>\n",
       "      <th>STATE NUMBER</th>\n",
       "      <th>multiple_full_time_jobs</th>\n",
       "      <th>summed_annual_salary</th>\n",
       "    </tr>\n",
       "  </thead>\n",
       "  <tbody>\n",
       "    <tr>\n",
       "      <th>count</th>\n",
       "      <td>149481.000000</td>\n",
       "      <td>149481.000000</td>\n",
       "      <td>149481.000000</td>\n",
       "      <td>149481.000000</td>\n",
       "      <td>149481.000000</td>\n",
       "      <td>1.494810e+05</td>\n",
       "      <td>14.0</td>\n",
       "      <td>16.000000</td>\n",
       "    </tr>\n",
       "    <tr>\n",
       "      <th>mean</th>\n",
       "      <td>545.736288</td>\n",
       "      <td>0.346488</td>\n",
       "      <td>39.714918</td>\n",
       "      <td>4226.184248</td>\n",
       "      <td>50714.210973</td>\n",
       "      <td>5.651930e+05</td>\n",
       "      <td>1.0</td>\n",
       "      <td>74303.955000</td>\n",
       "    </tr>\n",
       "    <tr>\n",
       "      <th>std</th>\n",
       "      <td>139.057691</td>\n",
       "      <td>4.211485</td>\n",
       "      <td>2.323855</td>\n",
       "      <td>2093.111691</td>\n",
       "      <td>25117.340292</td>\n",
       "      <td>4.786212e+05</td>\n",
       "      <td>0.0</td>\n",
       "      <td>51925.944282</td>\n",
       "    </tr>\n",
       "    <tr>\n",
       "      <th>min</th>\n",
       "      <td>101.000000</td>\n",
       "      <td>0.000000</td>\n",
       "      <td>1.000000</td>\n",
       "      <td>50.000000</td>\n",
       "      <td>600.000000</td>\n",
       "      <td>1.000000e+00</td>\n",
       "      <td>1.0</td>\n",
       "      <td>18000.000000</td>\n",
       "    </tr>\n",
       "    <tr>\n",
       "      <th>25%</th>\n",
       "      <td>529.000000</td>\n",
       "      <td>0.000000</td>\n",
       "      <td>40.000000</td>\n",
       "      <td>3019.840000</td>\n",
       "      <td>36238.080000</td>\n",
       "      <td>1.133340e+05</td>\n",
       "      <td>1.0</td>\n",
       "      <td>32962.500000</td>\n",
       "    </tr>\n",
       "    <tr>\n",
       "      <th>50%</th>\n",
       "      <td>530.000000</td>\n",
       "      <td>0.000000</td>\n",
       "      <td>40.000000</td>\n",
       "      <td>3720.170000</td>\n",
       "      <td>44642.040000</td>\n",
       "      <td>3.463730e+05</td>\n",
       "      <td>1.0</td>\n",
       "      <td>48063.300000</td>\n",
       "    </tr>\n",
       "    <tr>\n",
       "      <th>75%</th>\n",
       "      <td>696.000000</td>\n",
       "      <td>0.000000</td>\n",
       "      <td>40.000000</td>\n",
       "      <td>4865.810000</td>\n",
       "      <td>58389.720000</td>\n",
       "      <td>1.100500e+06</td>\n",
       "      <td>1.0</td>\n",
       "      <td>123751.770000</td>\n",
       "    </tr>\n",
       "    <tr>\n",
       "      <th>max</th>\n",
       "      <td>930.000000</td>\n",
       "      <td>117.788480</td>\n",
       "      <td>70.000000</td>\n",
       "      <td>46125.000000</td>\n",
       "      <td>553500.000000</td>\n",
       "      <td>1.271604e+06</td>\n",
       "      <td>1.0</td>\n",
       "      <td>171383.400000</td>\n",
       "    </tr>\n",
       "  </tbody>\n",
       "</table>\n",
       "</div>"
      ],
      "text/plain": [
       "              AGENCY      HRLY RATE     HRS PER WK        MONTHLY  \\\n",
       "count  149481.000000  149481.000000  149481.000000  149481.000000   \n",
       "mean      545.736288       0.346488      39.714918    4226.184248   \n",
       "std       139.057691       4.211485       2.323855    2093.111691   \n",
       "min       101.000000       0.000000       1.000000      50.000000   \n",
       "25%       529.000000       0.000000      40.000000    3019.840000   \n",
       "50%       530.000000       0.000000      40.000000    3720.170000   \n",
       "75%       696.000000       0.000000      40.000000    4865.810000   \n",
       "max       930.000000     117.788480      70.000000   46125.000000   \n",
       "\n",
       "              ANNUAL  STATE NUMBER  multiple_full_time_jobs  \\\n",
       "count  149481.000000  1.494810e+05                     14.0   \n",
       "mean    50714.210973  5.651930e+05                      1.0   \n",
       "std     25117.340292  4.786212e+05                      0.0   \n",
       "min       600.000000  1.000000e+00                      1.0   \n",
       "25%     36238.080000  1.133340e+05                      1.0   \n",
       "50%     44642.040000  3.463730e+05                      1.0   \n",
       "75%     58389.720000  1.100500e+06                      1.0   \n",
       "max    553500.000000  1.271604e+06                      1.0   \n",
       "\n",
       "       summed_annual_salary  \n",
       "count             16.000000  \n",
       "mean           74303.955000  \n",
       "std            51925.944282  \n",
       "min            18000.000000  \n",
       "25%            32962.500000  \n",
       "50%            48063.300000  \n",
       "75%           123751.770000  \n",
       "max           171383.400000  "
      ]
     },
     "execution_count": 4,
     "metadata": {},
     "output_type": "execute_result"
    }
   ],
   "source": [
    "salary.describe()"
   ]
  },
  {
   "cell_type": "code",
   "execution_count": 5,
   "id": "0d34a305",
   "metadata": {},
   "outputs": [
    {
     "data": {
      "text/plain": [
       "<bound method DataFrame.info of         AGENCY                                        AGENCY NAME  \\\n",
       "0          241  COMPTROLLER OF PUBLIC ACCOUNTS, JUDICIARY SECT...   \n",
       "1          212  OFFICE OF COURT ADMINISTRATION                ...   \n",
       "2          241  COMPTROLLER OF PUBLIC ACCOUNTS, JUDICIARY SECT...   \n",
       "3          212  OFFICE OF COURT ADMINISTRATION                ...   \n",
       "4          696  TEXAS DEPARTMENT OF CRIMINAL JUSTICE          ...   \n",
       "...        ...                                                ...   \n",
       "149476     809  STATE PRESERVATION BOARD                      ...   \n",
       "149477     809  STATE PRESERVATION BOARD                      ...   \n",
       "149478     809  STATE PRESERVATION BOARD                      ...   \n",
       "149479     809  STATE PRESERVATION BOARD                      ...   \n",
       "149480     809  STATE PRESERVATION BOARD                      ...   \n",
       "\n",
       "                             LAST NAME                      FIRST NAME MI  \\\n",
       "0       RUCKER                          MORTON                          V   \n",
       "1       RUCKER                          MORTON                          V   \n",
       "2       SPECIA JR                       JOHN                            J   \n",
       "3       SPECIA JR                       JOHN                            J   \n",
       "4       ONTIVEROS                       ESTHER                              \n",
       "...                                ...                             ... ..   \n",
       "149476  WESSELS                         JOHN                            P   \n",
       "149477  WINDHAM                         EVAN                            A   \n",
       "149478  WRIGHT                          DERRICK                         C   \n",
       "149479  YOUNG                           DOUGLAS                         R   \n",
       "149480  ZUNKER                          GEORGIA                         P   \n",
       "\n",
       "       CLASS CODE                                        CLASS TITLE  \\\n",
       "0        JD25      JUDGE, RETIRED                                ...   \n",
       "1        3524      GENERAL COUNSEL IV                            ...   \n",
       "2        JD25      JUDGE, RETIRED                                ...   \n",
       "3        3524      GENERAL COUNSEL IV                            ...   \n",
       "4        4504      CORREC  OFFICER IV                            ...   \n",
       "...           ...                                                ...   \n",
       "149476   6232      SECURITY OFFICER III                          ...   \n",
       "149477   0302      WEB ADMINISTRATOR III                         ...   \n",
       "149478   0130      CUSTOMER SERVICE REP I                        ...   \n",
       "149479   1572      PROGRAM SPECIALIST III                        ...   \n",
       "149480   0130      CUSTOMER SERVICE REP I                        ...   \n",
       "\n",
       "              ETHNICITY           GENDER  \\\n",
       "0       WHITE            MALE              \n",
       "1       WHITE            MALE              \n",
       "2       WHITE            MALE              \n",
       "3       WHITE            MALE              \n",
       "4       HISPANIC         FEMALE            \n",
       "...                 ...              ...   \n",
       "149476  WHITE            MALE              \n",
       "149477  WHITE            FEMALE            \n",
       "149478  WHITE            MALE              \n",
       "149479  WHITE            MALE              \n",
       "149480  WHITE            FEMALE            \n",
       "\n",
       "                                          STATUS  ... HRLY RATE  HRS PER WK  \\\n",
       "0       URP - UNCLASSIFIED REGULAR PART-TIME      ...  75.96150        29.0   \n",
       "1       CTP - CLASSIFIED TEMPORARY PART-TIME      ...  81.04454         4.0   \n",
       "2       URP - UNCLASSIFIED REGULAR PART-TIME      ...  75.96150        29.0   \n",
       "3       CTP - CLASSIFIED TEMPORARY PART-TIME      ...  81.04453         4.0   \n",
       "4       CRF - CLASSIFIED REGULAR FULL-TIME        ...   0.00000        40.0   \n",
       "...                                          ...  ...       ...         ...   \n",
       "149476  CRF - CLASSIFIED REGULAR FULL-TIME        ...   0.00000        40.0   \n",
       "149477  CRF - CLASSIFIED REGULAR FULL-TIME        ...   0.00000        40.0   \n",
       "149478  CRP - CLASSIFIED REGULAR PART-TIME        ...  12.93000        20.0   \n",
       "149479  CRF - CLASSIFIED REGULAR FULL-TIME        ...   0.00000        40.0   \n",
       "149480  CRP - CLASSIFIED REGULAR PART-TIME        ...  11.74000        20.0   \n",
       "\n",
       "        MONTHLY     ANNUAL  STATE NUMBER  duplicated multiple_full_time_jobs  \\\n",
       "0       9545.82  114549.84        127717        True                     NaN   \n",
       "1       1404.77   16857.24        127717        True                     NaN   \n",
       "2       9545.82  114549.84         59115        True                     NaN   \n",
       "3       1404.77   16857.24         59115        True                     NaN   \n",
       "4       3284.27   39411.24        165030        True                     1.0   \n",
       "...         ...        ...           ...         ...                     ...   \n",
       "149476  2899.00   34788.00        770781         NaN                     NaN   \n",
       "149477  5500.00   66000.00        847431         NaN                     NaN   \n",
       "149478  1120.60   13447.20         34266         NaN                     NaN   \n",
       "149479  5744.16   68929.92        123490         NaN                     NaN   \n",
       "149480  1017.46   12209.52        103583         NaN                     NaN   \n",
       "\n",
       "        combined_multiple_jobs summed_annual_salary  hide_from_search  \n",
       "0                          NaN            131407.08               NaN  \n",
       "1                          NaN                  NaN              True  \n",
       "2                          NaN            131407.08               NaN  \n",
       "3                          NaN                  NaN              True  \n",
       "4                          NaN                  NaN               NaN  \n",
       "...                        ...                  ...               ...  \n",
       "149476                     NaN                  NaN               NaN  \n",
       "149477                     NaN                  NaN               NaN  \n",
       "149478                     NaN                  NaN               NaN  \n",
       "149479                     NaN                  NaN               NaN  \n",
       "149480                     NaN                  NaN               NaN  \n",
       "\n",
       "[149481 rows x 21 columns]>"
      ]
     },
     "execution_count": 5,
     "metadata": {},
     "output_type": "execute_result"
    }
   ],
   "source": [
    "salary.info"
   ]
  },
  {
   "cell_type": "code",
   "execution_count": 6,
   "id": "ae786626",
   "metadata": {},
   "outputs": [
    {
     "data": {
      "text/plain": [
       "AGENCY                          0\n",
       "AGENCY NAME                     0\n",
       "LAST NAME                       0\n",
       "FIRST NAME                      0\n",
       "MI                              0\n",
       "CLASS CODE                      0\n",
       "CLASS TITLE                     0\n",
       "ETHNICITY                       0\n",
       "GENDER                          0\n",
       "STATUS                          0\n",
       "EMPLOY DATE                     0\n",
       "HRLY RATE                       0\n",
       "HRS PER WK                      0\n",
       "MONTHLY                         0\n",
       "ANNUAL                          0\n",
       "STATE NUMBER                    0\n",
       "duplicated                 149338\n",
       "multiple_full_time_jobs    149467\n",
       "combined_multiple_jobs     149384\n",
       "summed_annual_salary       149465\n",
       "hide_from_search           149465\n",
       "dtype: int64"
      ]
     },
     "execution_count": 6,
     "metadata": {},
     "output_type": "execute_result"
    }
   ],
   "source": [
    "salary.isna().sum() # checking sum of missing values"
   ]
  },
  {
   "cell_type": "code",
   "execution_count": 7,
   "id": "8765fd30",
   "metadata": {},
   "outputs": [
    {
     "data": {
      "text/plain": [
       "(149481, 21)"
      ]
     },
     "execution_count": 7,
     "metadata": {},
     "output_type": "execute_result"
    }
   ],
   "source": [
    "salary.shape"
   ]
  },
  {
   "cell_type": "code",
   "execution_count": 8,
   "id": "a85f57a5",
   "metadata": {},
   "outputs": [],
   "source": [
    "##EDA"
   ]
  },
  {
   "cell_type": "code",
   "execution_count": 9,
   "id": "1f195a99",
   "metadata": {},
   "outputs": [],
   "source": [
    "#follwing columns have lots of missing data so it will be droppped\n",
    "salary.drop(['duplicated','multiple_full_time_jobs','combined_multiple_jobs',\n",
    "             'summed_annual_salary','hide_from_search'], axis=1, inplace=True)"
   ]
  },
  {
   "cell_type": "code",
   "execution_count": 10,
   "id": "7b68e47f",
   "metadata": {},
   "outputs": [],
   "source": [
    "salary.rename(columns={'Ag':'Agency_name','Last Name':'Last_name','First Name':'First_name',\n",
    "                     'CLASS CODE':'Class_code','CLASS TITLE':'C_T','Employ Date':'Employ_date',\n",
    "                     'Hourly Rate':'Hrly_rate','Hours Per Week':'Hrs_per_wk','State No.':'State_number'},inplace=True)"
   ]
  },
  {
   "cell_type": "code",
   "execution_count": 11,
   "id": "c7f4514e",
   "metadata": {},
   "outputs": [
    {
     "name": "stdout",
     "output_type": "stream",
     "text": [
      "CRF - CLASSIFIED REGULAR FULL-TIME          142502\n",
      "URF - UNCLASSIFIED REGULAR FULL-TIME          2363\n",
      "CRP - CLASSIFIED REGULAR PART-TIME            1531\n",
      "CTF - CLASSIFIED TEMPORARY FULL-TIME          1096\n",
      "URP - UNCLASSIFIED REGULAR PART-TIME           950\n",
      "ERF - EXEMPT REGULAR FULL-TIME                 923\n",
      "CTP - CLASSIFIED TEMPORARY PART-TIME            81\n",
      "UTP - UNCLASSIFIED TEMPORARY PART-TIME          21\n",
      "UTF - UNCLASSIFIED TEMPORARY FULL-TIME          12\n",
      "CTP - CLASSIFIED TEMPORARY FULL-TIME             1\n",
      "ERP - EXEMPT REGULAR PART-TIME                   1\n",
      "Name: STATUS, dtype: int64\n"
     ]
    }
   ],
   "source": [
    "status_count = salary.STATUS.value_counts()\n",
    "print(status_count)"
   ]
  },
  {
   "cell_type": "code",
   "execution_count": 12,
   "id": "f0bd7969",
   "metadata": {},
   "outputs": [
    {
     "data": {
      "text/plain": [
       "<AxesSubplot:xlabel='ETHNICITY', ylabel='count'>"
      ]
     },
     "execution_count": 12,
     "metadata": {},
     "output_type": "execute_result"
    },
    {
     "data": {
      "image/png": "[encoded data removed]",
      "text/plain": [
       "<Figure size 432x288 with 1 Axes>"
      ]
     },
     "metadata": {
      "needs_background": "light"
     },
     "output_type": "display_data"
    }
   ],
   "source": [
    "sns.countplot(salary.ETHNICITY)\n"
   ]
  },
  {
   "cell_type": "code",
   "execution_count": 13,
   "id": "24890a76",
   "metadata": {},
   "outputs": [
    {
     "data": {
      "text/plain": [
       "<seaborn.axisgrid.FacetGrid at 0x23230c982b0>"
      ]
     },
     "execution_count": 13,
     "metadata": {},
     "output_type": "execute_result"
    },
    {
     "data": {
      "image/png": "[encoded data removed]",
      "text/plain": [
       "<Figure size 360x360 with 1 Axes>"
      ]
     },
     "metadata": {
      "needs_background": "light"
     },
     "output_type": "display_data"
    }
   ],
   "source": [
    "sns.displot(salary.MI)"
   ]
  },
  {
   "cell_type": "code",
   "execution_count": 14,
   "id": "e8ffe2fd",
   "metadata": {},
   "outputs": [],
   "source": [
    "## converting the categorical data into numerical data\n",
    "from sklearn.preprocessing import LabelEncoder\n",
    "\n",
    "label = LabelEncoder()\n",
    "salary.AGENCY=label.fit_transform(salary.AGENCY)\n",
    "salary.ETHNICITY=label.fit_transform(salary.ETHNICITY)\n",
    "salary.GENDER=label.fit_transform(salary.GENDER)\n",
    "salary.STATUS=label.fit_transform(salary.STATUS)\n",
    "salary.MI=label.fit_transform(salary.MI)\n",
    "salary.C_T=label.fit_transform(salary.C_T)\n",
    "salary.Class_code =label.fit_transform(salary.Class_code)"
   ]
  },
  {
   "cell_type": "code",
   "execution_count": 15,
   "id": "c681a90c",
   "metadata": {},
   "outputs": [
    {
     "data": {
      "text/plain": [
       "Index(['AGENCY', 'AGENCY NAME', 'LAST NAME', 'FIRST NAME', 'MI', 'Class_code',\n",
       "       'C_T', 'ETHNICITY', 'GENDER', 'STATUS', 'EMPLOY DATE', 'HRLY RATE',\n",
       "       'HRS PER WK', 'MONTHLY', 'ANNUAL', 'STATE NUMBER'],\n",
       "      dtype='object')"
      ]
     },
     "execution_count": 15,
     "metadata": {},
     "output_type": "execute_result"
    }
   ],
   "source": [
    "salary.columns"
   ]
  },
  {
   "cell_type": "code",
   "execution_count": 16,
   "id": "9eec20b1",
   "metadata": {},
   "outputs": [],
   "source": [
    "#Dropped agency name and First Name, because it can be categorized with index number\n",
    "salary.drop(['AGENCY NAME','LAST NAME', 'FIRST NAME','STATE NUMBER','EMPLOY DATE'], axis=1, inplace=True)"
   ]
  },
  {
   "cell_type": "code",
   "execution_count": 17,
   "id": "627c7759",
   "metadata": {},
   "outputs": [
    {
     "data": {
      "text/plain": [
       "<AxesSubplot:>"
      ]
     },
     "execution_count": 17,
     "metadata": {},
     "output_type": "execute_result"
    },
    {
     "data": {
      "image/png": "[encoded data removed]",
      "text/plain": [
       "<Figure size 432x288 with 2 Axes>"
      ]
     },
     "metadata": {
      "needs_background": "light"
     },
     "output_type": "display_data"
    }
   ],
   "source": [
    "#correclation\n",
    "corr = salary.corr()\n",
    "corr\n",
    "sns.heatmap(corr,cmap = 'Wistia',annot=True)"
   ]
  },
  {
   "cell_type": "code",
   "execution_count": 18,
   "id": "abeb8f64",
   "metadata": {},
   "outputs": [
    {
     "data": {
      "image/png": "[encoded data removed]",
      "text/plain": [
       "<Figure size 1152x1152 with 6 Axes>"
      ]
     },
     "metadata": {
      "needs_background": "light"
     },
     "output_type": "display_data"
    }
   ],
   "source": [
    "## Let's check for outliers \n",
    "fig, ax1 = plt.subplots(3, 2, figsize=(16, 16))\n",
    "sns.boxplot(salary['AGENCY'],ax=ax1[0][0])\n",
    "sns.boxplot(salary['MONTHLY'], ax=  ax1[0][1])\n",
    "sns.boxplot(salary['ETHNICITY'], ax=  ax1[1][0])\n",
    "sns.boxplot(salary['GENDER'], ax=  ax1[1][1])\n",
    "sns.boxplot(salary['HRLY RATE'], ax=  ax1[2][0])\n",
    "sns.boxplot(salary['HRS PER WK'], ax=  ax1[2][1])\n",
    "plt.show()"
   ]
  },
  {
   "cell_type": "code",
   "execution_count": 19,
   "id": "a1796fb5",
   "metadata": {
    "scrolled": true
   },
   "outputs": [
    {
     "name": "stdout",
     "output_type": "stream",
     "text": [
      "-1.445095378543151 AGENCY\n",
      "0.5093708017230576 MI\n",
      "-0.23205618137590403 Class_code\n",
      "0.42449206710125237 C_T\n",
      "-0.19699725847338503 ETHNICITY\n",
      "0.28619968454706746 GENDER\n",
      "5.6003213031589185 STATUS\n",
      "15.917938906434207 HRLY RATE\n",
      "-8.379193623324754 HRS PER WK\n",
      "2.702777438248092 MONTHLY\n",
      "2.7027774382480954 ANNUAL\n"
     ]
    }
   ],
   "source": [
    "#checking for normaility of the data that is by testing for skewness and kurtosis\n",
    "from scipy import stats\n",
    "for column in salary:\n",
    "    print(stats.skew(salary[column]),column)"
   ]
  },
  {
   "cell_type": "code",
   "execution_count": 20,
   "id": "b06d3d56",
   "metadata": {},
   "outputs": [],
   "source": [
    "from sklearn.preprocessing import StandardScaler\n",
    "scaler = StandardScaler()\n",
    "scaled_sal = scaler.fit_transform(salary)"
   ]
  },
  {
   "cell_type": "code",
   "execution_count": 21,
   "id": "b048c240",
   "metadata": {},
   "outputs": [
    {
     "data": {
      "text/html": [
       "<div>\n",
       "<style scoped>\n",
       "    .dataframe tbody tr th:only-of-type {\n",
       "        vertical-align: middle;\n",
       "    }\n",
       "\n",
       "    .dataframe tbody tr th {\n",
       "        vertical-align: top;\n",
       "    }\n",
       "\n",
       "    .dataframe thead th {\n",
       "        text-align: right;\n",
       "    }\n",
       "</style>\n",
       "<table border=\"1\" class=\"dataframe\">\n",
       "  <thead>\n",
       "    <tr style=\"text-align: right;\">\n",
       "      <th></th>\n",
       "      <th>AGENCY</th>\n",
       "      <th>MI</th>\n",
       "      <th>Class_code</th>\n",
       "      <th>C_T</th>\n",
       "      <th>ETHNICITY</th>\n",
       "      <th>GENDER</th>\n",
       "      <th>STATUS</th>\n",
       "      <th>HRLY RATE</th>\n",
       "      <th>HRS PER WK</th>\n",
       "      <th>MONTHLY</th>\n",
       "    </tr>\n",
       "  </thead>\n",
       "  <tbody>\n",
       "    <tr>\n",
       "      <th>0</th>\n",
       "      <td>25</td>\n",
       "      <td>22</td>\n",
       "      <td>1409</td>\n",
       "      <td>711</td>\n",
       "      <td>5</td>\n",
       "      <td>1</td>\n",
       "      <td>8</td>\n",
       "      <td>75.96150</td>\n",
       "      <td>29.0</td>\n",
       "      <td>9545.82</td>\n",
       "    </tr>\n",
       "    <tr>\n",
       "      <th>1</th>\n",
       "      <td>8</td>\n",
       "      <td>22</td>\n",
       "      <td>616</td>\n",
       "      <td>560</td>\n",
       "      <td>5</td>\n",
       "      <td>1</td>\n",
       "      <td>4</td>\n",
       "      <td>81.04454</td>\n",
       "      <td>4.0</td>\n",
       "      <td>1404.77</td>\n",
       "    </tr>\n",
       "    <tr>\n",
       "      <th>2</th>\n",
       "      <td>25</td>\n",
       "      <td>10</td>\n",
       "      <td>1409</td>\n",
       "      <td>711</td>\n",
       "      <td>5</td>\n",
       "      <td>1</td>\n",
       "      <td>8</td>\n",
       "      <td>75.96150</td>\n",
       "      <td>29.0</td>\n",
       "      <td>9545.82</td>\n",
       "    </tr>\n",
       "    <tr>\n",
       "      <th>3</th>\n",
       "      <td>8</td>\n",
       "      <td>10</td>\n",
       "      <td>616</td>\n",
       "      <td>560</td>\n",
       "      <td>5</td>\n",
       "      <td>1</td>\n",
       "      <td>4</td>\n",
       "      <td>81.04453</td>\n",
       "      <td>4.0</td>\n",
       "      <td>1404.77</td>\n",
       "    </tr>\n",
       "    <tr>\n",
       "      <th>4</th>\n",
       "      <td>102</td>\n",
       "      <td>0</td>\n",
       "      <td>810</td>\n",
       "      <td>292</td>\n",
       "      <td>3</td>\n",
       "      <td>0</td>\n",
       "      <td>0</td>\n",
       "      <td>0.00000</td>\n",
       "      <td>40.0</td>\n",
       "      <td>3284.27</td>\n",
       "    </tr>\n",
       "  </tbody>\n",
       "</table>\n",
       "</div>"
      ],
      "text/plain": [
       "   AGENCY  MI  Class_code  C_T  ETHNICITY  GENDER  STATUS  HRLY RATE  \\\n",
       "0      25  22        1409  711          5       1       8   75.96150   \n",
       "1       8  22         616  560          5       1       4   81.04454   \n",
       "2      25  10        1409  711          5       1       8   75.96150   \n",
       "3       8  10         616  560          5       1       4   81.04453   \n",
       "4     102   0         810  292          3       0       0    0.00000   \n",
       "\n",
       "   HRS PER WK  MONTHLY  \n",
       "0        29.0  9545.82  \n",
       "1         4.0  1404.77  \n",
       "2        29.0  9545.82  \n",
       "3         4.0  1404.77  \n",
       "4        40.0  3284.27  "
      ]
     },
     "execution_count": 21,
     "metadata": {},
     "output_type": "execute_result"
    }
   ],
   "source": [
    "## Definig independent and dependent variables\n",
    "X=salary.iloc[:,0:-1]\n",
    "y=salary.ANNUAL\n",
    "X.head()"
   ]
  },
  {
   "cell_type": "code",
   "execution_count": 22,
   "id": "4461b471",
   "metadata": {},
   "outputs": [],
   "source": [
    "#defining training and testing model\n",
    "from sklearn.model_selection import train_test_split\n",
    "X_train,X_test,y_train,y_test=train_test_split(X,y,test_size=0.20,random_state=42)"
   ]
  },
  {
   "cell_type": "code",
   "execution_count": 23,
   "id": "f7ba4eee",
   "metadata": {},
   "outputs": [],
   "source": [
    "## Model creation\n",
    "from sklearn.linear_model import LinearRegression\n",
    "model=LinearRegression()\n",
    "model.fit(X_train,y_train)\n",
    "y_hat=model.predict(X_test)"
   ]
  },
  {
   "cell_type": "code",
   "execution_count": 24,
   "id": "72172da5",
   "metadata": {},
   "outputs": [
    {
     "data": {
      "text/plain": [
       "1.0"
      ]
     },
     "execution_count": 24,
     "metadata": {},
     "output_type": "execute_result"
    }
   ],
   "source": [
    "y_train_predict=model.predict(X_train)\n",
    "from sklearn.metrics import r2_score\n",
    "train_score=r2_score(y_train,y_train_predict)\n",
    "train_score"
   ]
  },
  {
   "cell_type": "code",
   "execution_count": 25,
   "id": "955549f2",
   "metadata": {},
   "outputs": [
    {
     "data": {
      "text/plain": [
       "1.0"
      ]
     },
     "execution_count": 25,
     "metadata": {},
     "output_type": "execute_result"
    }
   ],
   "source": [
    "test_score=r2_score(y_test,y_hat)\n",
    "test_score"
   ]
  },
  {
   "cell_type": "code",
   "execution_count": 26,
   "id": "11b85636",
   "metadata": {},
   "outputs": [],
   "source": [
    "from sklearn.metrics import mean_absolute_error \n",
    "from sklearn.metrics import mean_squared_error \n"
   ]
  },
  {
   "cell_type": "code",
   "execution_count": 27,
   "id": "bac9aa3f",
   "metadata": {},
   "outputs": [
    {
     "name": "stdout",
     "output_type": "stream",
     "text": [
      "LinearRegression for training data:  100.0\n",
      "LinearRegression for test data : 100.0\n",
      "Mean Squard Error is : 2.964135561286827e-22\n",
      "Mean Absolute Error is : 1.2475709211877704e-11\n"
     ]
    }
   ],
   "source": [
    "\n",
    "model.fit(X_train,y_train)\n",
    "y_predict=model.predict(X_test)\n",
    "print('LinearRegression for training data: ',model.score(X_train,y_train)*100)\n",
    "print('LinearRegression for test data :',model.score(X_test,y_test)*100)\n",
    "print('Mean Squard Error is :',mean_squared_error(y_test, y_predict))\n",
    "print('Mean Absolute Error is :',mean_absolute_error(y_test, y_predict))"
   ]
  },
  {
   "cell_type": "code",
   "execution_count": 28,
   "id": "3dad358a",
   "metadata": {},
   "outputs": [
    {
     "data": {
      "text/plain": [
       "array([37244.04, 36238.08, 64512.  , ..., 41769.24, 42702.  , 22275.24])"
      ]
     },
     "execution_count": 28,
     "metadata": {},
     "output_type": "execute_result"
    }
   ],
   "source": [
    "y_train_predict"
   ]
  },
  {
   "cell_type": "code",
   "execution_count": null,
   "id": "d540eccb",
   "metadata": {},
   "outputs": [],
   "source": []
  },
  {
   "cell_type": "code",
   "execution_count": null,
   "id": "b63ad2d8",
   "metadata": {},
   "outputs": [],
   "source": []
  },
  {
   "cell_type": "code",
   "execution_count": null,
   "id": "a27f42f5",
   "metadata": {},
   "outputs": [],
   "source": []
  }
 ],
 "metadata": {
  "kernelspec": {
   "display_name": "Python 3",
   "language": "python",
   "name": "python3"
  },
  "language_info": {
   "codemirror_mode": {
    "name": "ipython",
    "version": 3
   },
   "file_extension": ".py",
   "mimetype": "text/x-python",
   "name": "python",
   "nbconvert_exporter": "python",
   "pygments_lexer": "ipython3",
   "version": "3.8.8"
  }
 },
 "nbformat": 4,
 "nbformat_minor": 5
}
